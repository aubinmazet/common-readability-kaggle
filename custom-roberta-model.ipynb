{
 "cells": [
  {
   "cell_type": "code",
   "execution_count": 1,
   "id": "09bef37e",
   "metadata": {
    "_cell_guid": "b1076dfc-b9ad-4769-8c92-a6c4dae69d19",
    "_uuid": "8f2839f25d086af736a60e9eeb907d3b93b6e0e5",
    "execution": {
     "iopub.execute_input": "2021-07-11T17:23:46.559793Z",
     "iopub.status.busy": "2021-07-11T17:23:46.558928Z",
     "iopub.status.idle": "2021-07-11T17:23:46.583836Z",
     "shell.execute_reply": "2021-07-11T17:23:46.584824Z",
     "shell.execute_reply.started": "2021-07-11T17:09:20.137487Z"
    },
    "papermill": {
     "duration": 0.06995,
     "end_time": "2021-07-11T17:23:46.585153",
     "exception": false,
     "start_time": "2021-07-11T17:23:46.515203",
     "status": "completed"
    },
    "tags": []
   },
   "outputs": [
    {
     "name": "stdout",
     "output_type": "stream",
     "text": [
      "/kaggle/input/commonlitreadabilityprize/sample_submission.csv\n",
      "/kaggle/input/commonlitreadabilityprize/train.csv\n",
      "/kaggle/input/commonlitreadabilityprize/test.csv\n",
      "/kaggle/input/huggingface-roberta/roberta-base/rust_model.ot\n",
      "/kaggle/input/huggingface-roberta/roberta-base/config.json\n",
      "/kaggle/input/huggingface-roberta/roberta-base/merges.txt\n",
      "/kaggle/input/huggingface-roberta/roberta-base/tokenizer.json\n",
      "/kaggle/input/huggingface-roberta/roberta-base/vocab.json\n",
      "/kaggle/input/huggingface-roberta/roberta-base/tf_model.h5\n",
      "/kaggle/input/huggingface-roberta/roberta-base/dict.txt\n",
      "/kaggle/input/huggingface-roberta/roberta-base/pytorch_model.bin\n",
      "/kaggle/input/huggingface-roberta/roberta-base/flax_model.msgpack\n",
      "/kaggle/input/huggingface-roberta/roberta-large/config.json\n",
      "/kaggle/input/huggingface-roberta/roberta-large/merges.txt\n",
      "/kaggle/input/huggingface-roberta/roberta-large/tokenizer.json\n",
      "/kaggle/input/huggingface-roberta/roberta-large/vocab.json\n",
      "/kaggle/input/huggingface-roberta/roberta-large/tf_model.h5\n",
      "/kaggle/input/huggingface-roberta/roberta-large/pytorch_model.bin\n"
     ]
    }
   ],
   "source": [
    "# This Python 3 environment comes with many helpful analytics libraries installed\n",
    "# It is defined by the kaggle/python Docker image: https://github.com/kaggle/docker-python\n",
    "# For example, here's several helpful packages to load\n",
    "\n",
    "import numpy as np # linear algebra\n",
    "import pandas as pd # data processing, CSV file I/O (e.g. pd.read_csv)\n",
    "\n",
    "# Input data files are available in the read-only \"../input/\" directory\n",
    "# For example, running this (by clicking run or pressing Shift+Enter) will list all files under the input directory\n",
    "\n",
    "import os\n",
    "for dirname, _, filenames in os.walk('/kaggle/input'):\n",
    "    for filename in filenames:\n",
    "        print(os.path.join(dirname, filename))\n",
    "\n",
    "# You can write up to 20GB to the current directory (/kaggle/working/) that gets preserved as output when you create a version using \"Save & Run All\" \n",
    "# You can also write temporary files to /kaggle/temp/, but they won't be saved outside of the current session"
   ]
  },
  {
   "cell_type": "code",
   "execution_count": 2,
   "id": "38022c93",
   "metadata": {
    "execution": {
     "iopub.execute_input": "2021-07-11T17:23:46.642048Z",
     "iopub.status.busy": "2021-07-11T17:23:46.641271Z",
     "iopub.status.idle": "2021-07-11T17:23:53.003938Z",
     "shell.execute_reply": "2021-07-11T17:23:53.004352Z",
     "shell.execute_reply.started": "2021-07-11T17:09:20.177027Z"
    },
    "papermill": {
     "duration": 6.392498,
     "end_time": "2021-07-11T17:23:53.004530",
     "exception": false,
     "start_time": "2021-07-11T17:23:46.612032",
     "status": "completed"
    },
    "tags": []
   },
   "outputs": [],
   "source": [
    "from transformers import AutoTokenizer\n",
    "from transformers import TFAutoModel\n",
    "import tensorflow as tf"
   ]
  },
  {
   "cell_type": "code",
   "execution_count": 3,
   "id": "e85124ed",
   "metadata": {
    "execution": {
     "iopub.execute_input": "2021-07-11T17:23:58.532002Z",
     "iopub.status.busy": "2021-07-11T17:23:58.531378Z",
     "iopub.status.idle": "2021-07-11T17:23:58.536128Z",
     "shell.execute_reply": "2021-07-11T17:23:58.535704Z",
     "shell.execute_reply.started": "2021-07-11T17:09:27.166349Z"
    },
    "papermill": {
     "duration": 5.515434,
     "end_time": "2021-07-11T17:23:58.536254",
     "exception": false,
     "start_time": "2021-07-11T17:23:53.020820",
     "status": "completed"
    },
    "tags": []
   },
   "outputs": [
    {
     "name": "stdout",
     "output_type": "stream",
     "text": [
      "True\n"
     ]
    }
   ],
   "source": [
    "print(tf.test.is_gpu_available())"
   ]
  },
  {
   "cell_type": "code",
   "execution_count": 4,
   "id": "b11232d5",
   "metadata": {
    "execution": {
     "iopub.execute_input": "2021-07-11T17:23:58.572680Z",
     "iopub.status.busy": "2021-07-11T17:23:58.572133Z",
     "iopub.status.idle": "2021-07-11T17:23:58.575664Z",
     "shell.execute_reply": "2021-07-11T17:23:58.576026Z",
     "shell.execute_reply.started": "2021-07-11T17:23:26.785408Z"
    },
    "papermill": {
     "duration": 0.023556,
     "end_time": "2021-07-11T17:23:58.576157",
     "exception": false,
     "start_time": "2021-07-11T17:23:58.552601",
     "status": "completed"
    },
    "tags": []
   },
   "outputs": [],
   "source": [
    "LEARNING_RATE = 1e-5 \n",
    "ES_PATIENCE = 7\n",
    "PATIENCE = 2\n",
    "EPOCHS = 10\n",
    "SEQ_LEN = 256\n",
    "BATCH_SIZE = 16"
   ]
  },
  {
   "cell_type": "code",
   "execution_count": 5,
   "id": "789197c1",
   "metadata": {
    "execution": {
     "iopub.execute_input": "2021-07-11T17:23:58.612359Z",
     "iopub.status.busy": "2021-07-11T17:23:58.611882Z",
     "iopub.status.idle": "2021-07-11T17:24:07.265402Z",
     "shell.execute_reply": "2021-07-11T17:24:07.265991Z",
     "shell.execute_reply.started": "2021-07-11T17:09:32.957590Z"
    },
    "papermill": {
     "duration": 8.673959,
     "end_time": "2021-07-11T17:24:07.266159",
     "exception": false,
     "start_time": "2021-07-11T17:23:58.592200",
     "status": "completed"
    },
    "tags": []
   },
   "outputs": [
    {
     "name": "stderr",
     "output_type": "stream",
     "text": [
      "Some layers from the model checkpoint at /kaggle/input/huggingface-roberta/roberta-base/ were not used when initializing TFRobertaModel: ['lm_head']\n",
      "- This IS expected if you are initializing TFRobertaModel from the checkpoint of a model trained on another task or with another architecture (e.g. initializing a BertForSequenceClassification model from a BertForPreTraining model).\n",
      "- This IS NOT expected if you are initializing TFRobertaModel from the checkpoint of a model that you expect to be exactly identical (initializing a BertForSequenceClassification model from a BertForSequenceClassification model).\n",
      "All the layers of TFRobertaModel were initialized from the model checkpoint at /kaggle/input/huggingface-roberta/roberta-base/.\n",
      "If your task is similar to the task the model of the checkpoint was trained on, you can already use TFRobertaModel for predictions without further training.\n"
     ]
    }
   ],
   "source": [
    "CHECKPOINT = '/kaggle/input/huggingface-roberta/roberta-base/'\n",
    "tokenizer = AutoTokenizer.from_pretrained(CHECKPOINT)\n",
    "base_model = TFAutoModel.from_pretrained(CHECKPOINT)"
   ]
  },
  {
   "cell_type": "code",
   "execution_count": 6,
   "id": "2b07c89a",
   "metadata": {
    "execution": {
     "iopub.execute_input": "2021-07-11T17:24:07.305227Z",
     "iopub.status.busy": "2021-07-11T17:24:07.304734Z",
     "iopub.status.idle": "2021-07-11T17:24:07.308506Z",
     "shell.execute_reply": "2021-07-11T17:24:07.308049Z",
     "shell.execute_reply.started": "2021-07-11T17:09:41.562698Z"
    },
    "papermill": {
     "duration": 0.025145,
     "end_time": "2021-07-11T17:24:07.308633",
     "exception": false,
     "start_time": "2021-07-11T17:24:07.283488",
     "status": "completed"
    },
    "tags": []
   },
   "outputs": [],
   "source": [
    "import pandas as pd\n",
    "\n",
    "def load_data():\n",
    "    train_filepath = '/kaggle/input/commonlitreadabilityprize/train.csv'\n",
    "    test_filepath = '/kaggle/input/commonlitreadabilityprize/test.csv'\n",
    "\n",
    "    train = pd.read_csv(train_filepath)\n",
    "    test = pd.read_csv(test_filepath)\n",
    "\n",
    "    # removing unused columns\n",
    "    train = train.drop(['url_legal', 'license'], axis=1)\n",
    "    test = test.drop(['url_legal', 'license'], axis=1)\n",
    "    return train, test"
   ]
  },
  {
   "cell_type": "code",
   "execution_count": 7,
   "id": "6e06272c",
   "metadata": {
    "execution": {
     "iopub.execute_input": "2021-07-11T17:24:07.345556Z",
     "iopub.status.busy": "2021-07-11T17:24:07.345037Z",
     "iopub.status.idle": "2021-07-11T17:24:07.424678Z",
     "shell.execute_reply": "2021-07-11T17:24:07.424215Z",
     "shell.execute_reply.started": "2021-07-11T17:09:41.572000Z"
    },
    "papermill": {
     "duration": 0.099455,
     "end_time": "2021-07-11T17:24:07.424803",
     "exception": false,
     "start_time": "2021-07-11T17:24:07.325348",
     "status": "completed"
    },
    "tags": []
   },
   "outputs": [],
   "source": [
    "train, test = load_data()"
   ]
  },
  {
   "cell_type": "code",
   "execution_count": 8,
   "id": "e0f05ea4",
   "metadata": {
    "execution": {
     "iopub.execute_input": "2021-07-11T17:24:07.465193Z",
     "iopub.status.busy": "2021-07-11T17:24:07.464560Z",
     "iopub.status.idle": "2021-07-11T17:24:07.467658Z",
     "shell.execute_reply": "2021-07-11T17:24:07.467250Z",
     "shell.execute_reply.started": "2021-07-11T17:09:41.662208Z"
    },
    "papermill": {
     "duration": 0.025906,
     "end_time": "2021-07-11T17:24:07.467767",
     "exception": false,
     "start_time": "2021-07-11T17:24:07.441861",
     "status": "completed"
    },
    "tags": []
   },
   "outputs": [],
   "source": [
    "class CustomRoberta(tf.keras.Model):\n",
    "    def __init__(self, embedding_dim):\n",
    "        super(CustomRoberta, self).__init__()\n",
    "        self.embedding_dim = embedding_dim\n",
    "        self.dropout = tf.keras.layers.Dropout(0.5)\n",
    "        self.dense = tf.keras.layers.Dense(\n",
    "            1, input_shape=(embedding_dim,), activation=None, name=\"dense_last_layer\"\n",
    "        )\n",
    "        self.bert_layer = TFAutoModel.from_pretrained(CHECKPOINT)\n",
    "\n",
    "    def call(self, input_ids, attention_mask):\n",
    "        sequence = self.bert_layer(input_ids, attention_mask)[0]\n",
    "        x = sequence[:, 0, :]\n",
    "        x = self.dropout(x)\n",
    "        x = self.dense(x)\n",
    "        return x"
   ]
  },
  {
   "cell_type": "code",
   "execution_count": 9,
   "id": "66c61ea1",
   "metadata": {
    "execution": {
     "iopub.execute_input": "2021-07-11T17:24:07.511284Z",
     "iopub.status.busy": "2021-07-11T17:24:07.510092Z",
     "iopub.status.idle": "2021-07-11T17:24:07.512826Z",
     "shell.execute_reply": "2021-07-11T17:24:07.512405Z",
     "shell.execute_reply.started": "2021-07-11T17:09:41.674017Z"
    },
    "papermill": {
     "duration": 0.028151,
     "end_time": "2021-07-11T17:24:07.512931",
     "exception": false,
     "start_time": "2021-07-11T17:24:07.484780",
     "status": "completed"
    },
    "tags": []
   },
   "outputs": [],
   "source": [
    "# Datasets utility functions\n",
    "def custom_standardization(text):\n",
    "    text = text.lower() # if encoder is uncased\n",
    "    text = text.strip()\n",
    "    return text\n",
    "\n",
    "def convert_raw_dataframe_to_tf_dataset(df: pd.DataFrame, tokenizer: AutoTokenizer, labeled: bool =True, ordered: bool =False, repeated: bool =False, \n",
    "                is_sampled: bool =False, batch_size: int =32, seq_len: int =128):\n",
    "    \"\"\"\n",
    "        Return a Tensorflow dataset ready for training or inference.\n",
    "    \"\"\"\n",
    "    text = [custom_standardization(text) for text in df['excerpt']]\n",
    "    \n",
    "    # Tokenize inputs\n",
    "    tokenized_inputs = tokenizer(text, max_length=seq_len, truncation=True, \n",
    "                                 padding='max_length', return_tensors='tf')\n",
    "    \n",
    "    if labeled:\n",
    "        dataset = tf.data.Dataset.from_tensor_slices(({'input_ids': tokenized_inputs['input_ids'], \n",
    "                                                      'attention_mask': tokenized_inputs['attention_mask']}, \n",
    "                                                      (df['target'], df['standard_error'])))\n",
    "        if is_sampled:\n",
    "            dataset = dataset.map(sample_target, num_parallel_calls=tf.data.AUTOTUNE)\n",
    "    else:\n",
    "        dataset = tf.data.Dataset.from_tensor_slices({'input_ids': tokenized_inputs['input_ids'], \n",
    "                                                      'attention_mask': tokenized_inputs['attention_mask']})\n",
    "        \n",
    "    if repeated:\n",
    "        dataset = dataset.repeat()\n",
    "    if not ordered:\n",
    "        dataset = dataset.shuffle(1024)\n",
    "    dataset = dataset.batch(batch_size)\n",
    "    dataset = dataset.prefetch(tf.data.AUTOTUNE)\n",
    "    \n",
    "    return dataset"
   ]
  },
  {
   "cell_type": "code",
   "execution_count": null,
   "id": "a7503a07",
   "metadata": {
    "papermill": {
     "duration": 0.01649,
     "end_time": "2021-07-11T17:24:07.545995",
     "exception": false,
     "start_time": "2021-07-11T17:24:07.529505",
     "status": "completed"
    },
    "tags": []
   },
   "outputs": [],
   "source": []
  },
  {
   "cell_type": "code",
   "execution_count": 10,
   "id": "a207e4dc",
   "metadata": {
    "execution": {
     "iopub.execute_input": "2021-07-11T17:24:07.586287Z",
     "iopub.status.busy": "2021-07-11T17:24:07.585114Z",
     "iopub.status.idle": "2021-07-11T17:24:07.587784Z",
     "shell.execute_reply": "2021-07-11T17:24:07.587317Z",
     "shell.execute_reply.started": "2021-07-11T17:09:47.377969Z"
    },
    "papermill": {
     "duration": 0.025287,
     "end_time": "2021-07-11T17:24:07.587884",
     "exception": false,
     "start_time": "2021-07-11T17:24:07.562597",
     "status": "completed"
    },
    "tags": []
   },
   "outputs": [],
   "source": [
    "def build_model(encoder, seq_len=256):\n",
    "    input_ids = tf.keras.layers.Input(shape=(seq_len,), dtype=tf.int32, name='input_ids')\n",
    "    input_attention_mask = tf.keras.layers.Input(shape=(seq_len,), dtype=tf.int32, name='attention_mask')\n",
    "    \n",
    "    outputs = encoder(input_ids=input_ids, attention_mask = input_attention_mask)\n",
    "    \n",
    "    model = tf.keras.Model(inputs=[input_ids, input_attention_mask], outputs=outputs)\n",
    "\n",
    "    optimizer = tf.keras.optimizers.Adam(lr=LEARNING_RATE)\n",
    "    model.compile(optimizer=optimizer, \n",
    "                  loss=tf.keras.losses.MeanSquaredError(), \n",
    "                  metrics=[tf.keras.metrics.RootMeanSquaredError()])\n",
    "    \n",
    "    return model"
   ]
  },
  {
   "cell_type": "code",
   "execution_count": 11,
   "id": "52bd8e97",
   "metadata": {
    "execution": {
     "iopub.execute_input": "2021-07-11T17:24:07.641333Z",
     "iopub.status.busy": "2021-07-11T17:24:07.640589Z",
     "iopub.status.idle": "2021-07-11T17:24:11.873345Z",
     "shell.execute_reply": "2021-07-11T17:24:11.873819Z",
     "shell.execute_reply.started": "2021-07-11T17:09:47.760354Z"
    },
    "papermill": {
     "duration": 4.26932,
     "end_time": "2021-07-11T17:24:11.873973",
     "exception": false,
     "start_time": "2021-07-11T17:24:07.604653",
     "status": "completed"
    },
    "tags": []
   },
   "outputs": [
    {
     "name": "stderr",
     "output_type": "stream",
     "text": [
      "Some layers from the model checkpoint at /kaggle/input/huggingface-roberta/roberta-base/ were not used when initializing TFRobertaModel: ['lm_head']\n",
      "- This IS expected if you are initializing TFRobertaModel from the checkpoint of a model trained on another task or with another architecture (e.g. initializing a BertForSequenceClassification model from a BertForPreTraining model).\n",
      "- This IS NOT expected if you are initializing TFRobertaModel from the checkpoint of a model that you expect to be exactly identical (initializing a BertForSequenceClassification model from a BertForSequenceClassification model).\n",
      "All the layers of TFRobertaModel were initialized from the model checkpoint at /kaggle/input/huggingface-roberta/roberta-base/.\n",
      "If your task is similar to the task the model of the checkpoint was trained on, you can already use TFRobertaModel for predictions without further training.\n"
     ]
    }
   ],
   "source": [
    "encoder = CustomRoberta(embedding_dim=238)"
   ]
  },
  {
   "cell_type": "code",
   "execution_count": 12,
   "id": "5991c6e4",
   "metadata": {
    "execution": {
     "iopub.execute_input": "2021-07-11T17:24:11.919126Z",
     "iopub.status.busy": "2021-07-11T17:24:11.918576Z",
     "iopub.status.idle": "2021-07-11T17:24:17.603474Z",
     "shell.execute_reply": "2021-07-11T17:24:17.602953Z",
     "shell.execute_reply.started": "2021-07-11T17:09:55.340721Z"
    },
    "papermill": {
     "duration": 5.711179,
     "end_time": "2021-07-11T17:24:17.603664",
     "exception": false,
     "start_time": "2021-07-11T17:24:11.892485",
     "status": "completed"
    },
    "tags": []
   },
   "outputs": [],
   "source": [
    "model = build_model(encoder, seq_len=256)"
   ]
  },
  {
   "cell_type": "code",
   "execution_count": 13,
   "id": "90add133",
   "metadata": {
    "execution": {
     "iopub.execute_input": "2021-07-11T17:24:17.643950Z",
     "iopub.status.busy": "2021-07-11T17:24:17.643143Z",
     "iopub.status.idle": "2021-07-11T17:24:17.645879Z",
     "shell.execute_reply": "2021-07-11T17:24:17.645456Z",
     "shell.execute_reply.started": "2021-07-11T17:10:02.678107Z"
    },
    "papermill": {
     "duration": 0.02431,
     "end_time": "2021-07-11T17:24:17.645992",
     "exception": false,
     "start_time": "2021-07-11T17:24:17.621682",
     "status": "completed"
    },
    "tags": []
   },
   "outputs": [],
   "source": [
    "MODEL_PATH = 'model.h5'\n",
    "checkpoint_callback = tf.keras.callbacks.ModelCheckpoint(MODEL_PATH, monitor='val_root_mean_squared_error', mode='min', \n",
    "                             save_best_only=True, save_weights_only=True)"
   ]
  },
  {
   "cell_type": "code",
   "execution_count": 14,
   "id": "0ad42202",
   "metadata": {
    "execution": {
     "iopub.execute_input": "2021-07-11T17:24:17.694565Z",
     "iopub.status.busy": "2021-07-11T17:24:17.694017Z",
     "iopub.status.idle": "2021-07-11T17:24:19.802783Z",
     "shell.execute_reply": "2021-07-11T17:24:19.802311Z",
     "shell.execute_reply.started": "2021-07-11T17:10:12.153130Z"
    },
    "papermill": {
     "duration": 2.139416,
     "end_time": "2021-07-11T17:24:19.802913",
     "exception": false,
     "start_time": "2021-07-11T17:24:17.663497",
     "status": "completed"
    },
    "tags": []
   },
   "outputs": [],
   "source": [
    "train = train.sample(train.shape[0])\n",
    "train_df = train.iloc[:int(0.75*train.shape[0])]\n",
    "val_df = train.iloc[int(0.75*train.shape[0]):]\n",
    "training_dataset = convert_raw_dataframe_to_tf_dataset(train_df, tokenizer, seq_len=SEQ_LEN, batch_size=BATCH_SIZE)\n",
    "validation_dataset = convert_raw_dataframe_to_tf_dataset(val_df, tokenizer, seq_len=SEQ_LEN, batch_size=BATCH_SIZE)"
   ]
  },
  {
   "cell_type": "code",
   "execution_count": 15,
   "id": "d64ba147",
   "metadata": {
    "execution": {
     "iopub.execute_input": "2021-07-11T17:24:19.843532Z",
     "iopub.status.busy": "2021-07-11T17:24:19.842913Z",
     "iopub.status.idle": "2021-07-11T17:37:00.291033Z",
     "shell.execute_reply": "2021-07-11T17:37:00.290567Z",
     "shell.execute_reply.started": "2021-07-11T17:13:58.210094Z"
    },
    "papermill": {
     "duration": 760.470679,
     "end_time": "2021-07-11T17:37:00.291246",
     "exception": false,
     "start_time": "2021-07-11T17:24:19.820567",
     "status": "completed"
    },
    "tags": []
   },
   "outputs": [
    {
     "name": "stdout",
     "output_type": "stream",
     "text": [
      "Epoch 1/10\n",
      "133/133 [==============================] - 92s 582ms/step - loss: 2.2488 - root_mean_squared_error: 1.4902 - val_loss: 0.4035 - val_root_mean_squared_error: 0.6352\n",
      "Epoch 2/10\n",
      "133/133 [==============================] - 74s 557ms/step - loss: 1.2113 - root_mean_squared_error: 1.0997 - val_loss: 0.4865 - val_root_mean_squared_error: 0.6975\n",
      "Epoch 3/10\n",
      "133/133 [==============================] - 74s 557ms/step - loss: 0.8428 - root_mean_squared_error: 0.9172 - val_loss: 0.4166 - val_root_mean_squared_error: 0.6454\n",
      "Epoch 4/10\n",
      "133/133 [==============================] - 74s 557ms/step - loss: 0.6495 - root_mean_squared_error: 0.8056 - val_loss: 0.3644 - val_root_mean_squared_error: 0.6036\n",
      "Epoch 5/10\n",
      "133/133 [==============================] - 74s 558ms/step - loss: 0.5237 - root_mean_squared_error: 0.7231 - val_loss: 0.4850 - val_root_mean_squared_error: 0.6964\n",
      "Epoch 6/10\n",
      "133/133 [==============================] - 74s 557ms/step - loss: 0.4494 - root_mean_squared_error: 0.6701 - val_loss: 0.4357 - val_root_mean_squared_error: 0.6601\n",
      "Epoch 7/10\n",
      "133/133 [==============================] - 74s 557ms/step - loss: 0.4234 - root_mean_squared_error: 0.6505 - val_loss: 0.5496 - val_root_mean_squared_error: 0.7413\n",
      "Epoch 8/10\n",
      "133/133 [==============================] - 74s 557ms/step - loss: 0.3922 - root_mean_squared_error: 0.6258 - val_loss: 0.6271 - val_root_mean_squared_error: 0.7919\n",
      "Epoch 9/10\n",
      "133/133 [==============================] - 74s 557ms/step - loss: 0.3439 - root_mean_squared_error: 0.5862 - val_loss: 0.4181 - val_root_mean_squared_error: 0.6466\n",
      "Epoch 10/10\n",
      "133/133 [==============================] - 74s 557ms/step - loss: 0.2797 - root_mean_squared_error: 0.5286 - val_loss: 0.4815 - val_root_mean_squared_error: 0.6939\n"
     ]
    }
   ],
   "source": [
    "history = model.fit(x=training_dataset, \n",
    "                    validation_data=validation_dataset, \n",
    "                   # steps_per_epoch=50, \n",
    "                    callbacks=[checkpoint_callback], \n",
    "                    epochs=EPOCHS,  \n",
    "                    verbose=1).history"
   ]
  },
  {
   "cell_type": "code",
   "execution_count": 16,
   "id": "65370235",
   "metadata": {
    "execution": {
     "iopub.execute_input": "2021-07-11T17:37:01.084244Z",
     "iopub.status.busy": "2021-07-11T17:37:01.073953Z",
     "iopub.status.idle": "2021-07-11T17:37:01.690757Z",
     "shell.execute_reply": "2021-07-11T17:37:01.690263Z",
     "shell.execute_reply.started": "2021-07-11T17:23:12.727179Z"
    },
    "papermill": {
     "duration": 1.028296,
     "end_time": "2021-07-11T17:37:01.690892",
     "exception": false,
     "start_time": "2021-07-11T17:37:00.662596",
     "status": "completed"
    },
    "tags": []
   },
   "outputs": [],
   "source": [
    "model.load_weights(MODEL_PATH)"
   ]
  },
  {
   "cell_type": "code",
   "execution_count": 17,
   "id": "4a9a8aa9",
   "metadata": {
    "execution": {
     "iopub.execute_input": "2021-07-11T17:37:02.465566Z",
     "iopub.status.busy": "2021-07-11T17:37:02.464910Z",
     "iopub.status.idle": "2021-07-11T17:37:02.468096Z",
     "shell.execute_reply": "2021-07-11T17:37:02.468690Z",
     "shell.execute_reply.started": "2021-07-11T17:23:13.546342Z"
    },
    "papermill": {
     "duration": 0.369688,
     "end_time": "2021-07-11T17:37:02.468864",
     "exception": false,
     "start_time": "2021-07-11T17:37:02.099176",
     "status": "completed"
    },
    "tags": []
   },
   "outputs": [
    {
     "name": "stdout",
     "output_type": "stream",
     "text": [
      "#### OOF RMSE = 0.6036\n"
     ]
    }
   ],
   "source": [
    "print(f\"#### OOF RMSE = {np.min(history['val_root_mean_squared_error']):.4f}\")"
   ]
  },
  {
   "cell_type": "code",
   "execution_count": 18,
   "id": "70aee09c",
   "metadata": {
    "execution": {
     "iopub.execute_input": "2021-07-11T17:37:03.208231Z",
     "iopub.status.busy": "2021-07-11T17:37:03.207531Z",
     "iopub.status.idle": "2021-07-11T17:37:03.675212Z",
     "shell.execute_reply": "2021-07-11T17:37:03.674503Z",
     "shell.execute_reply.started": "2021-07-11T17:23:14.269921Z"
    },
    "papermill": {
     "duration": 0.841712,
     "end_time": "2021-07-11T17:37:03.675339",
     "exception": false,
     "start_time": "2021-07-11T17:37:02.833627",
     "status": "completed"
    },
    "tags": []
   },
   "outputs": [],
   "source": [
    "import seaborn as sns\n",
    "from matplotlib import pyplot as plt\n",
    "\n",
    "def plot_metrics(history):\n",
    "    metric_list = list(history.keys())\n",
    "    size = len(metric_list)//2\n",
    "    fig, axes = plt.subplots(size, 1, sharex='col', figsize=(20, size * 5))\n",
    "    axes = axes.flatten()\n",
    "    \n",
    "    for index in range(len(metric_list)//2):\n",
    "        metric_name = metric_list[index]\n",
    "        val_metric_name = metric_list[index+size]\n",
    "        axes[index].plot(history[metric_name], label='Train %s' % metric_name)\n",
    "        axes[index].plot(history[val_metric_name], label='Validation %s' % metric_name)\n",
    "        axes[index].legend(loc='best', fontsize=16)\n",
    "        axes[index].set_title(metric_name)\n",
    "\n",
    "    plt.xlabel('Epochs', fontsize=16)\n",
    "    sns.despine()\n",
    "    plt.show()"
   ]
  },
  {
   "cell_type": "code",
   "execution_count": 19,
   "id": "3e598289",
   "metadata": {
    "execution": {
     "iopub.execute_input": "2021-07-11T17:37:04.420968Z",
     "iopub.status.busy": "2021-07-11T17:37:04.420066Z",
     "iopub.status.idle": "2021-07-11T17:37:04.708750Z",
     "shell.execute_reply": "2021-07-11T17:37:04.708297Z",
     "shell.execute_reply.started": "2021-07-11T17:23:15.383073Z"
    },
    "papermill": {
     "duration": 0.668416,
     "end_time": "2021-07-11T17:37:04.708866",
     "exception": false,
     "start_time": "2021-07-11T17:37:04.040450",
     "status": "completed"
    },
    "tags": []
   },
   "outputs": [
    {
     "data": {
      "image/png": "[encoded data removed]",
      "text/plain": [
       "<Figure size 1440x720 with 2 Axes>"
      ]
     },
     "metadata": {
      "needs_background": "light"
     },
     "output_type": "display_data"
    }
   ],
   "source": [
    " plot_metrics(history)"
   ]
  },
  {
   "cell_type": "code",
   "execution_count": 20,
   "id": "77fd82e1",
   "metadata": {
    "execution": {
     "iopub.execute_input": "2021-07-11T17:37:05.448653Z",
     "iopub.status.busy": "2021-07-11T17:37:05.447863Z",
     "iopub.status.idle": "2021-07-11T17:37:08.131847Z",
     "shell.execute_reply": "2021-07-11T17:37:08.132260Z",
     "shell.execute_reply.started": "2021-07-11T17:23:15.704799Z"
    },
    "papermill": {
     "duration": 3.059199,
     "end_time": "2021-07-11T17:37:08.132421",
     "exception": false,
     "start_time": "2021-07-11T17:37:05.073222",
     "status": "completed"
    },
    "tags": []
   },
   "outputs": [],
   "source": [
    "test_dataset = convert_raw_dataframe_to_tf_dataset(test, tokenizer, labeled=False, ordered=True, batch_size=BATCH_SIZE, seq_len=SEQ_LEN)\n",
    "x_test = test_dataset.map(lambda sample: sample)\n",
    "test_pred = model.predict(x_test)"
   ]
  },
  {
   "cell_type": "code",
   "execution_count": 21,
   "id": "c2b8ccf3",
   "metadata": {
    "execution": {
     "iopub.execute_input": "2021-07-11T17:37:08.861963Z",
     "iopub.status.busy": "2021-07-11T17:37:08.861089Z",
     "iopub.status.idle": "2021-07-11T17:37:08.866964Z",
     "shell.execute_reply": "2021-07-11T17:37:08.866407Z",
     "shell.execute_reply.started": "2021-07-11T17:23:18.213395Z"
    },
    "papermill": {
     "duration": 0.372397,
     "end_time": "2021-07-11T17:37:08.867077",
     "exception": false,
     "start_time": "2021-07-11T17:37:08.494680",
     "status": "completed"
    },
    "tags": []
   },
   "outputs": [],
   "source": [
    "submission = pd.DataFrame({'id':test.id,'target':test_pred.flatten()})    \n",
    "submission.to_csv('/kaggle/working/submission.csv',index=False)"
   ]
  },
  {
   "cell_type": "code",
   "execution_count": null,
   "id": "3348e28b",
   "metadata": {
    "papermill": {
     "duration": 0.371389,
     "end_time": "2021-07-11T17:37:09.614791",
     "exception": false,
     "start_time": "2021-07-11T17:37:09.243402",
     "status": "completed"
    },
    "tags": []
   },
   "outputs": [],
   "source": []
  }
 ],
 "metadata": {
  "kernelspec": {
   "display_name": "Python 3",
   "language": "python",
   "name": "python3"
  },
  "language_info": {
   "codemirror_mode": {
    "name": "ipython",
    "version": 3
   },
   "file_extension": ".py",
   "mimetype": "text/x-python",
   "name": "python",
   "nbconvert_exporter": "python",
   "pygments_lexer": "ipython3",
   "version": "3.7.10"
  },
  "papermill": {
   "default_parameters": {},
   "duration": 813.920925,
   "end_time": "2021-07-11T17:37:13.775361",
   "environment_variables": {},
   "exception": null,
   "input_path": "__notebook__.ipynb",
   "output_path": "__notebook__.ipynb",
   "parameters": {},
   "start_time": "2021-07-11T17:23:39.854436",
   "version": "2.3.3"
  }
 },
 "nbformat": 4,
 "nbformat_minor": 5
}
